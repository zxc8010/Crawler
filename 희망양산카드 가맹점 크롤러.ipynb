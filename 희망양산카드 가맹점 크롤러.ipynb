{
 "cells": [
  {
   "cell_type": "code",
   "execution_count": 1,
   "metadata": {},
   "outputs": [],
   "source": [
    "#Step 1. 필요한 모듈과 라이브러리를 로딩하고 검색어를 입력 받습니다\n",
    "from bs4 import BeautifulSoup     \n",
    "from selenium import webdriver\n",
    "import time\n",
    "import sys"
   ]
  },
  {
   "cell_type": "code",
   "execution_count": 2,
   "metadata": {},
   "outputs": [
    {
     "name": "stdout",
     "output_type": "stream",
     "text": [
      "fatsecret 사이트에서 제품의 영양관련 정보를 'xlsx' 파일로 긁어오는 크롤러입니다.\n",
      "경로 지정을 할 때 반드시 xlsx 확장자로 지정하세요.\n"
     ]
    },
    {
     "name": "stdin",
     "output_type": "stream",
     "text": [
      "검색 결과를 저장할 파일경로와 이름을 지정하세요(예:c:\\data\\test.xlsx):  C:/Users/zxc80/Desktop/빅리더_꿈나무/양산시가맹점.xlsx\n"
     ]
    },
    {
     "name": "stdout",
     "output_type": "stream",
     "text": [
      "총 가게는 351개이며 수집할 페이지는 36입니다.\n"
     ]
    }
   ],
   "source": [
    "print(\"fatsecret 사이트에서 제품의 영양관련 정보를 'xlsx' 파일로 긁어오는 크롤러입니다.\")\n",
    "print(\"경로 지정을 할 때 반드시 xlsx 확장자로 지정하세요.\")\n",
    "f_name = input('검색 결과를 저장할 파일경로와 이름을 지정하세요(예:c:\\\\data\\\\test.xlsx): ')\n",
    "\n",
    "\n",
    "#Step 2. 크롬 드라이버를 사용해서 웹 브라우저를 실행합니다.\n",
    "path = \"c:/chromedriver_240/chromedriver.exe\"\n",
    "driver = webdriver.Chrome(path)\n",
    "driver.get(\"http://yangsan.heemang.or.kr/heemang/merchant/mgr/initMerchantList.han\")\n",
    "time.sleep(2)  #  창이 모두 열릴 때 까지 2초 기다립니다.\n",
    "\n",
    "#Step 3. 검색창의 이름을 찾아서 검색어를 입력하고 검색을 실행합니다\n",
    "driver.find_element_by_xpath('//*[@id=\"content\"]/div[2]/div/div/input[2]').click()\n",
    "\n",
    "time.sleep(2) # 창이 켜질때까지 2초 대기합니다.\n",
    "\n",
    "full_html = driver.page_source #현재 페이지의 html을 긁어온다\n",
    "soup = BeautifulSoup(full_html, 'html.parser') #파서의 이름을 soup로 지정.\n",
    "\n",
    "MarketNum = soup.select('#content > div.contents > div > table > tbody:nth-child(5) > tr > td')\n",
    "\n",
    "MarketNum = MarketNum[0].text.strip().replace('전체 ','').replace(' 건','')\n",
    "\n",
    "import math\n",
    "PageNum = math.ceil(int(MarketNum) / 10) #페이지 갯수\n",
    "\n",
    "print(\"총 가게는 %s개이며 수집할 페이지는 %s입니다.\" %(MarketNum,PageNum))\n",
    "\n",
    "TotalMarketName = []\n",
    "TotalPlace = []\n",
    "TotalCall = []\n",
    "\n",
    "no = 1\n",
    "for i in range(PageNum) :\n",
    "    full_html = driver.page_source #현재 페이지의 html을 긁어온다\n",
    "    soup = BeautifulSoup(full_html, 'html.parser') #파서의 이름을 soup로 지정.\n",
    "    Writer = soup.find_all('td',class_='writer') #가게 명 및 위치\n",
    "    Dat = soup.find_all('td', class_='dat') # 가게 전화번호\n",
    "    for j in range(len(Writer)):\n",
    "        if j % 2 == 0:\n",
    "            TotalMarketName.append(Writer[j].text.strip())\n",
    "        else:\n",
    "            TotalPlace.append(Writer[j].text.strip())\n",
    "    no += 1\n",
    "     \n",
    "    for k in range(len(Dat)):\n",
    "        TotalCall.append(Dat[k].text.strip())\n",
    "        \n",
    "    if i+2 <= PageNum:\n",
    "        driver.find_element_by_xpath('//*[@id=\"bottom_m\"]/ul/li[4]/a').location_once_scrolled_into_view # 원활한 클릭을 위해 스크롤 내리기\n",
    "        time.sleep(0.5)\n",
    "        if no % 11 == 0 :\n",
    "            no -= 10\n",
    "            time.sleep(0.5)\n",
    "            driver.find_element_by_link_text(\"다음\").click()\n",
    "        else:\n",
    "            driver.find_element_by_link_text(str(i+2)).click()\n",
    "            time.sleep(0.5)\n",
    "    else :\n",
    "        break\n",
    "    \n",
    "\n",
    "import pandas as pd\n",
    "\n",
    "store = pd.DataFrame()\n",
    "store['가맹점명'] = TotalMarketName\n",
    "store['주소'] =  TotalPlace\n",
    "store['전화번호'] =  TotalCall\n",
    "\n",
    "store.to_excel(f_name, sheet_name='sheet1')"
   ]
  },
  {
   "cell_type": "code",
   "execution_count": null,
   "metadata": {},
   "outputs": [],
   "source": [
    "s"
   ]
  }
 ],
 "metadata": {
  "kernelspec": {
   "display_name": "Python 3",
   "language": "python",
   "name": "python3"
  },
  "language_info": {
   "codemirror_mode": {
    "name": "ipython",
    "version": 3
   },
   "file_extension": ".py",
   "mimetype": "text/x-python",
   "name": "python",
   "nbconvert_exporter": "python",
   "pygments_lexer": "ipython3",
   "version": "3.7.3"
  }
 },
 "nbformat": 4,
 "nbformat_minor": 2
}
